{
 "cells": [
  {
   "cell_type": "code",
   "execution_count": 2,
   "id": "b158eea2-bae9-4fb3-a758-0883687c3d4a",
   "metadata": {},
   "outputs": [],
   "source": [
    "import cv2\n",
    "import numpy as np\n",
    "import os\n",
    "import yaml\n",
    "from yaml.loader import SafeLoader"
   ]
  },
  {
   "cell_type": "code",
   "execution_count": 21,
   "id": "bbcbba55-ac4f-4b85-844b-4525d317021e",
   "metadata": {},
   "outputs": [
    {
     "name": "stdout",
     "output_type": "stream",
     "text": [
      "['shuttle-P15u']\n"
     ]
    }
   ],
   "source": [
    "# load YAML\n",
    "with open('data.yaml',mode = 'r') as f:\n",
    "    data_yaml = yaml.load(f, Loader = SafeLoader)\n",
    "\n",
    "labels = data_yaml['names']\n",
    "print(labels)\n"
   ]
  },
  {
   "cell_type": "code",
   "execution_count": 22,
   "id": "2d0efaed-1896-4d88-b682-eb16086b964e",
   "metadata": {},
   "outputs": [],
   "source": [
    "#load YOLO model\n",
    "yolo = cv2.dnn.readNetFromONNX('./Model6/weights/best.onnx')\n",
    "yolo.setPreferableBackend(cv2.dnn.DNN_BACKEND_OPENCV)\n",
    "yolo.setPreferableTarget(cv2.dnn.DNN_TARGET_CPU)"
   ]
  },
  {
   "cell_type": "code",
   "execution_count": 23,
   "id": "fb5bbae5-53ef-4e5f-978f-91a7b9efffb3",
   "metadata": {},
   "outputs": [],
   "source": [
    "# load image\n",
    "img = cv2.imread('./bad1_mp4-0091_jpg.rf.5d0b59cfbdade6f7eb99de60b61ce794.jpg')\n",
    "image = img.copy()\n",
    "row,col, d = image.shape\n",
    "\n",
    "\n",
    "# get the yolo prediction from the image\n",
    "#image into square image\n",
    "max_rc = max(row,col)\n",
    "input_image=np.zeros((max_rc,max_rc,3),dtype = np.uint8)\n",
    "input_image[0:row,:col] = image\n",
    "#prediction from square array\n",
    "INPUT_WH_YOLO = 640 \n",
    "blob = cv2.dnn.blobFromImage(input_image,1/255,(INPUT_WH_YOLO,INPUT_WH_YOLO),swapRB=True,crop=False)\n",
    "yolo.setInput(blob)\n",
    "preds = yolo.forward() #predect from yolo\n",
    "\n",
    "\n"
   ]
  },
  {
   "cell_type": "code",
   "execution_count": 25,
   "id": "227c8dd3-c8b2-4d01-b695-8c14aee37a04",
   "metadata": {},
   "outputs": [
    {
     "name": "stdout",
     "output_type": "stream",
     "text": [
      "(1, 25200, 6)\n"
     ]
    }
   ],
   "source": [
    "print(preds.shape)"
   ]
  },
  {
   "cell_type": "code",
   "execution_count": 87,
   "id": "d28d21d0-321d-4c58-8063-456d86bd86ce",
   "metadata": {},
   "outputs": [],
   "source": [
    "# non max supression\n",
    "#filter on confidence(0.4) and probability (0.25)\n",
    "detections = preds[0]\n",
    "boxes =[]\n",
    "confidences = []\n",
    "classes = []\n",
    "\n",
    "#width and height of image \n",
    "image_w, image_h = input_image.shape[:2]\n",
    "x_factor = image_w/INPUT_WH_YOLO\n",
    "y_factor = image_h/INPUT_WH_YOLO\n",
    "\n",
    "for i in range(len (detections)):\n",
    "    row = detections[i]\n",
    "    confidence = row[4]\n",
    "    if confidence > 0.01:\n",
    "        class_score = row[5:].max()\n",
    "        class_id = row[5:].argmax()\n",
    "\n",
    "        if class_score > 0.01:\n",
    "            cx,cy,w,h = row[0:4]\n",
    "\n",
    "            left = int((cx-0.5*w)*x_factor)\n",
    "            top = int((cy-0.5*h)*y_factor)\n",
    "            width = int(w*x_factor)\n",
    "            height = int(h*y_factor)\n",
    "\n",
    "            box = np.array([left,top,width,height])\n",
    "\n",
    "            confidences.append(confidence)\n",
    "            boxes.append(box)\n",
    "            classes.append(class_id)\n",
    "\n",
    "boxes_np = np.array(boxes).tolist()\n",
    "confidences_np = np.array(confidences).tolist()\n",
    "\n",
    "index = cv2.dnn.NMSBoxes(boxes_np,confidences_np,0.01,0.01).flatten()"
   ]
  },
  {
   "cell_type": "code",
   "execution_count": 88,
   "id": "baf5255f-b580-4608-b35e-f1a6c207b475",
   "metadata": {},
   "outputs": [
    {
     "data": {
      "text/plain": [
       "3"
      ]
     },
     "execution_count": 88,
     "metadata": {},
     "output_type": "execute_result"
    }
   ],
   "source": [
    "len(index)"
   ]
  },
  {
   "cell_type": "code",
   "execution_count": 89,
   "id": "ff403d3e-a02d-4933-b8ea-75d0567a4297",
   "metadata": {},
   "outputs": [],
   "source": [
    "# draw bunding box\n",
    "for ind in index:\n",
    "    x,y,w,h = boxes_np[ind]\n",
    "    bb_conf = int(confidences_np[ind]*100)\n",
    "    classes_id = classes[ind]\n",
    "    class_name = labels[classes_id]\n",
    "\n",
    "    text = f'{class_name}: {bb_conf}%'\n",
    "\n",
    "    cv2.rectangle(image,(x,y),(x+w,y+h),(0,255,0),2)\n",
    "    cv2.rectangle(image,(x,y-30),(x+w,y),(255,255,255),-1)\n",
    "\n",
    "    cv2.putText(image,text,(x,y-10),cv2.FONT_HERSHEY_PLAIN,0.7,(0,0,0),1)\n",
    "\n"
   ]
  },
  {
   "cell_type": "code",
   "execution_count": 90,
   "id": "bd5154b6-068f-48a0-b211-289467a7bb4a",
   "metadata": {},
   "outputs": [],
   "source": [
    "\n",
    "cv2.imshow('original',img)\n",
    "cv2.imshow('yolo_prediction',image)\n",
    "cv2.waitKey(0)\n",
    "cv2.destroyAllWindows()"
   ]
  },
  {
   "cell_type": "code",
   "execution_count": null,
   "id": "e5173caa-4ebc-4e76-b441-0010f6170a88",
   "metadata": {},
   "outputs": [],
   "source": []
  }
 ],
 "metadata": {
  "kernelspec": {
   "display_name": "Python 3 (ipykernel)",
   "language": "python",
   "name": "python3"
  },
  "language_info": {
   "codemirror_mode": {
    "name": "ipython",
    "version": 3
   },
   "file_extension": ".py",
   "mimetype": "text/x-python",
   "name": "python",
   "nbconvert_exporter": "python",
   "pygments_lexer": "ipython3",
   "version": "3.12.3"
  }
 },
 "nbformat": 4,
 "nbformat_minor": 5
}
