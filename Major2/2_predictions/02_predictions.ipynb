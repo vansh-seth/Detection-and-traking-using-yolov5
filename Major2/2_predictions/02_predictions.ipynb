{
 "cells": [
  {
   "cell_type": "code",
   "execution_count": 1,
   "id": "32139696-c9c2-49d3-82a3-ac65ff6e62b1",
   "metadata": {},
   "outputs": [],
   "source": [
    "import cv2\n",
    "from yolo_predictions import YOLO_Pred"
   ]
  },
  {
   "cell_type": "code",
   "execution_count": 2,
   "id": "bb10fe42-cd4f-461c-b9fc-d7056b011de6",
   "metadata": {},
   "outputs": [],
   "source": [
    "yolo = YOLO_Pred('./Mode14/weights/best.onnx','data.yaml')"
   ]
  },
  {
   "cell_type": "code",
   "execution_count": 3,
   "id": "a16a13ae-8e36-4898-9211-5a91aa4f1a6f",
   "metadata": {},
   "outputs": [],
   "source": [
    "img = cv2.imread('./bad1_mp4-0091_jpg.rf.5d0b59cfbdade6f7eb99de60b61ce794.jpg')\n",
    "\n",
    "cv2.imshow('img',img)\n",
    "cv2.waitKey(0)\n",
    "cv2.destroyAllWindows()"
   ]
  },
  {
   "cell_type": "code",
   "execution_count": 4,
   "id": "23715b4f-8c19-4b36-afb3-c28bbe7085b6",
   "metadata": {},
   "outputs": [],
   "source": [
    "img_pred = yolo.predictions(img)"
   ]
  },
  {
   "cell_type": "code",
   "execution_count": 5,
   "id": "b3049cb1-31f8-4ca4-8b9d-9ce2a39ac413",
   "metadata": {},
   "outputs": [],
   "source": [
    "cv2.imshow('prediction image',img_pred)\n",
    "cv2.waitKey(0)\n",
    "cv2.destroyAllWindows()"
   ]
  },
  {
   "cell_type": "code",
   "execution_count": 7,
   "id": "bd717c78-95f9-4430-9ccf-b8ff56ac1187",
   "metadata": {},
   "outputs": [
    {
     "name": "stdout",
     "output_type": "stream",
     "text": [
      "unable to read video\n"
     ]
    }
   ],
   "source": [
    "cap = cv2.VideoCapture('bad1.mp4')\n",
    "\n",
    "while True:\n",
    "    ret, frame = cap.read()\n",
    "    if ret == False:\n",
    "        print('unable to read video')\n",
    "        break\n",
    "    pred_image = yolo.predictions(frame)\n",
    "\n",
    "    cv2.imshow('YOLO',pred_image)\n",
    "    if cv2.waitKey(1) == 27:\n",
    "        break\n",
    "cv2.destroyAllWindows()\n",
    "cap.release()"
   ]
  },
  {
   "cell_type": "code",
   "execution_count": null,
   "id": "93902d43-f703-48c5-8f2f-b5dd48c1f1b3",
   "metadata": {},
   "outputs": [],
   "source": []
  }
 ],
 "metadata": {
  "kernelspec": {
   "display_name": "Python 3 (ipykernel)",
   "language": "python",
   "name": "python3"
  },
  "language_info": {
   "codemirror_mode": {
    "name": "ipython",
    "version": 3
   },
   "file_extension": ".py",
   "mimetype": "text/x-python",
   "name": "python",
   "nbconvert_exporter": "python",
   "pygments_lexer": "ipython3",
   "version": "3.12.3"
  }
 },
 "nbformat": 4,
 "nbformat_minor": 5
}
