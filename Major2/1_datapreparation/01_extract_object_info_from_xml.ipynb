{
 "cells": [
  {
   "cell_type": "code",
   "execution_count": 12,
   "id": "22f30aa7-4b6c-4c47-87a7-1d758a5a8d66",
   "metadata": {},
   "outputs": [],
   "source": [
    "pip install os\n",
    "pip install glob\n",
    "pip install pandas\n",
    "pip install reduce\n",
    "pip install ElementTree "
   ]
  },
  {
   "cell_type": "code",
   "execution_count": 12,
   "id": "c708b65a-2c5d-47db-b1ed-8932ed7f1fbf",
   "metadata": {},
   "outputs": [],
   "source": [
    "import os\n",
    "from glob import glob\n",
    "import pandas as pd\n",
    "from functools import reduce\n",
    "from xml.etree import ElementTree as et"
   ]
  },
  {
   "cell_type": "code",
   "execution_count": 13,
   "id": "5dd7a452-17e0-4301-94e2-bceba005d454",
   "metadata": {},
   "outputs": [],
   "source": [
    "xml_list = glob('./data_images/*.xml')\n",
    "#data cleaning\n",
    "xml_list = list(map(lambda x: x.replace('\\\\','/'),xml_list))"
   ]
  },
  {
   "cell_type": "code",
   "execution_count": 14,
   "id": "eb8af084-276d-4f29-989a-184ee08c169b",
   "metadata": {},
   "outputs": [
    {
     "data": {
      "text/plain": [
       "[]"
      ]
     },
     "execution_count": 14,
     "metadata": {},
     "output_type": "execute_result"
    }
   ],
   "source": [
    "xml_list"
   ]
  },
  {
   "cell_type": "code",
   "execution_count": 8,
   "id": "646a9a8c-4a30-4ee2-b657-cd0430914009",
   "metadata": {},
   "outputs": [],
   "source": [
    "#read xml\n",
    "#extract :\n",
    "#filename, size(w,h), object(name,xmin,xmax,ymin,ymax)\n",
    "def extract_text(filename):\n",
    "    tree = et.parse(filename)\n",
    "    root = tree.getroot()\n",
    "    \n",
    "    #filename\n",
    "    image_name = root.find('filename').text\n",
    "    #width and height\n",
    "    width = root.find('size').find('width').text\n",
    "    height = root.find('size').find('height').text\n",
    "    objs = root.findall('object')\n",
    "    parser = []\n",
    "    for obj in objs:\n",
    "        name = obj.find('name').text\n",
    "        bndbox = obj.find('bndbox')\n",
    "        xmin = bndbox.find('xmin').text\n",
    "        xmax = bndbox.find('xmax').text\n",
    "        ymin = bndbox.find('ymin').text\n",
    "        ymax = bndbox.find('ymax').text\n",
    "        parser.append([image_name,width,height,name,xmin,xmax,ymin,ymax])\n",
    "    \n",
    "    return parser"
   ]
  },
  {
   "cell_type": "code",
   "execution_count": 9,
   "id": "3e90c170-175f-424d-acc0-018f72a729cb",
   "metadata": {},
   "outputs": [],
   "source": [
    "parser_all = list(map(extract_text,xml_list))"
   ]
  },
  {
   "cell_type": "code",
   "execution_count": 10,
   "id": "0055b01d-82f9-4d88-b9a5-078a57d3c8f2",
   "metadata": {},
   "outputs": [
    {
     "data": {
      "text/plain": [
       "[]"
      ]
     },
     "execution_count": 10,
     "metadata": {},
     "output_type": "execute_result"
    }
   ],
   "source": [
    "parser_all"
   ]
  },
  {
   "cell_type": "code",
   "execution_count": 115,
   "id": "d640109d-a78b-402d-9891-6a5012d64e4b",
   "metadata": {},
   "outputs": [],
   "source": [
    "data = reduce(lambda x, y : x+y, parser_all)"
   ]
  },
  {
   "cell_type": "code",
   "execution_count": 116,
   "id": "01474951-51ee-4775-a9a8-1b99b57e5847",
   "metadata": {},
   "outputs": [],
   "source": [
    "df = pd.DataFrame(data,columns = ['filename','width', 'height','name','xmin', 'xmax', 'ymin','ymax'])"
   ]
  },
  {
   "cell_type": "code",
   "execution_count": 117,
   "id": "4041594a-c450-4865-bbd9-854c2b124654",
   "metadata": {},
   "outputs": [
    {
     "data": {
      "text/html": [
       "<div>\n",
       "<style scoped>\n",
       "    .dataframe tbody tr th:only-of-type {\n",
       "        vertical-align: middle;\n",
       "    }\n",
       "\n",
       "    .dataframe tbody tr th {\n",
       "        vertical-align: top;\n",
       "    }\n",
       "\n",
       "    .dataframe thead th {\n",
       "        text-align: right;\n",
       "    }\n",
       "</style>\n",
       "<table border=\"1\" class=\"dataframe\">\n",
       "  <thead>\n",
       "    <tr style=\"text-align: right;\">\n",
       "      <th></th>\n",
       "      <th>filename</th>\n",
       "      <th>width</th>\n",
       "      <th>height</th>\n",
       "      <th>name</th>\n",
       "      <th>xmin</th>\n",
       "      <th>xmax</th>\n",
       "      <th>ymin</th>\n",
       "      <th>ymax</th>\n",
       "    </tr>\n",
       "  </thead>\n",
       "  <tbody>\n",
       "    <tr>\n",
       "      <th>0</th>\n",
       "      <td>bad1_mp4-0000_jpg.rf.4e19812278be2eb9c877d44ae...</td>\n",
       "      <td>640</td>\n",
       "      <td>640</td>\n",
       "      <td>shuttle-P15u</td>\n",
       "      <td>304</td>\n",
       "      <td>307</td>\n",
       "      <td>361</td>\n",
       "      <td>368</td>\n",
       "    </tr>\n",
       "    <tr>\n",
       "      <th>1</th>\n",
       "      <td>bad1_mp4-0001_jpg.rf.172fa7d0b38232151a6f0492d...</td>\n",
       "      <td>640</td>\n",
       "      <td>640</td>\n",
       "      <td>shuttle-P15u</td>\n",
       "      <td>304</td>\n",
       "      <td>307</td>\n",
       "      <td>360</td>\n",
       "      <td>367</td>\n",
       "    </tr>\n",
       "    <tr>\n",
       "      <th>2</th>\n",
       "      <td>bad1_mp4-0002_jpg.rf.dc95a107f082189fbf81c59a4...</td>\n",
       "      <td>640</td>\n",
       "      <td>640</td>\n",
       "      <td>shuttle-P15u</td>\n",
       "      <td>305</td>\n",
       "      <td>307</td>\n",
       "      <td>360</td>\n",
       "      <td>365</td>\n",
       "    </tr>\n",
       "    <tr>\n",
       "      <th>3</th>\n",
       "      <td>bad1_mp4-0003_jpg.rf.c3f72fd3fe4a0adde8a8134f3...</td>\n",
       "      <td>640</td>\n",
       "      <td>640</td>\n",
       "      <td>shuttle-P15u</td>\n",
       "      <td>305</td>\n",
       "      <td>307</td>\n",
       "      <td>358</td>\n",
       "      <td>363</td>\n",
       "    </tr>\n",
       "    <tr>\n",
       "      <th>4</th>\n",
       "      <td>bad1_mp4-0004_jpg.rf.29decd8ae789e10ce117c261d...</td>\n",
       "      <td>640</td>\n",
       "      <td>640</td>\n",
       "      <td>shuttle-P15u</td>\n",
       "      <td>305</td>\n",
       "      <td>308</td>\n",
       "      <td>357</td>\n",
       "      <td>362</td>\n",
       "    </tr>\n",
       "  </tbody>\n",
       "</table>\n",
       "</div>"
      ],
      "text/plain": [
       "                                            filename width height  \\\n",
       "0  bad1_mp4-0000_jpg.rf.4e19812278be2eb9c877d44ae...   640    640   \n",
       "1  bad1_mp4-0001_jpg.rf.172fa7d0b38232151a6f0492d...   640    640   \n",
       "2  bad1_mp4-0002_jpg.rf.dc95a107f082189fbf81c59a4...   640    640   \n",
       "3  bad1_mp4-0003_jpg.rf.c3f72fd3fe4a0adde8a8134f3...   640    640   \n",
       "4  bad1_mp4-0004_jpg.rf.29decd8ae789e10ce117c261d...   640    640   \n",
       "\n",
       "           name xmin xmax ymin ymax  \n",
       "0  shuttle-P15u  304  307  361  368  \n",
       "1  shuttle-P15u  304  307  360  367  \n",
       "2  shuttle-P15u  305  307  360  365  \n",
       "3  shuttle-P15u  305  307  358  363  \n",
       "4  shuttle-P15u  305  308  357  362  "
      ]
     },
     "execution_count": 117,
     "metadata": {},
     "output_type": "execute_result"
    }
   ],
   "source": [
    "df.head()"
   ]
  },
  {
   "cell_type": "code",
   "execution_count": 118,
   "id": "ac4951c7-c302-4f22-8ec7-3b0c882297ab",
   "metadata": {},
   "outputs": [
    {
     "data": {
      "text/plain": [
       "(93, 8)"
      ]
     },
     "execution_count": 118,
     "metadata": {},
     "output_type": "execute_result"
    }
   ],
   "source": [
    "df.shape"
   ]
  },
  {
   "cell_type": "code",
   "execution_count": 119,
   "id": "d618b33b-4ba9-4cbf-b750-ea2997f2bd7f",
   "metadata": {},
   "outputs": [
    {
     "data": {
      "text/plain": [
       "name\n",
       "shuttle-P15u    93\n",
       "Name: count, dtype: int64"
      ]
     },
     "execution_count": 119,
     "metadata": {},
     "output_type": "execute_result"
    }
   ],
   "source": [
    "df['name'].value_counts()"
   ]
  },
  {
   "cell_type": "code",
   "execution_count": 120,
   "id": "fab7187e-c7fe-4648-ab60-dad2c0c7dc71",
   "metadata": {},
   "outputs": [
    {
     "name": "stdout",
     "output_type": "stream",
     "text": [
      "<class 'pandas.core.frame.DataFrame'>\n",
      "RangeIndex: 93 entries, 0 to 92\n",
      "Data columns (total 8 columns):\n",
      " #   Column    Non-Null Count  Dtype \n",
      "---  ------    --------------  ----- \n",
      " 0   filename  93 non-null     object\n",
      " 1   width     93 non-null     object\n",
      " 2   height    93 non-null     object\n",
      " 3   name      93 non-null     object\n",
      " 4   xmin      93 non-null     object\n",
      " 5   xmax      93 non-null     object\n",
      " 6   ymin      93 non-null     object\n",
      " 7   ymax      93 non-null     object\n",
      "dtypes: object(8)\n",
      "memory usage: 5.9+ KB\n"
     ]
    }
   ],
   "source": [
    "df.info()"
   ]
  },
  {
   "cell_type": "code",
   "execution_count": 121,
   "id": "97f48352-25f0-4146-b448-2acd6ecf4738",
   "metadata": {},
   "outputs": [
    {
     "name": "stdout",
     "output_type": "stream",
     "text": [
      "<class 'pandas.core.frame.DataFrame'>\n",
      "RangeIndex: 93 entries, 0 to 92\n",
      "Data columns (total 8 columns):\n",
      " #   Column    Non-Null Count  Dtype \n",
      "---  ------    --------------  ----- \n",
      " 0   filename  93 non-null     object\n",
      " 1   width     93 non-null     int32 \n",
      " 2   height    93 non-null     int32 \n",
      " 3   name      93 non-null     object\n",
      " 4   xmin      93 non-null     int32 \n",
      " 5   xmax      93 non-null     int32 \n",
      " 6   ymin      93 non-null     int32 \n",
      " 7   ymax      93 non-null     int32 \n",
      "dtypes: int32(6), object(2)\n",
      "memory usage: 3.8+ KB\n"
     ]
    }
   ],
   "source": [
    "#type conversion\n",
    "cols = ['width','height','xmin','xmax','ymin','ymax']\n",
    "df[cols] = df[cols].astype(int)\n",
    "df.info()\n",
    "\n",
    "#center x, center y\n",
    "df['center_x'] = ((df['xmax']+df['xmin'])/2)/df['width']\n",
    "df['center_y'] = ((df['ymax']+df['ymin'])/2)/df['height']\n",
    "#w\n",
    "df['w'] = (df['xmax'] - df['xmin'])/df['width']\n",
    "#h\n",
    "df['h'] = (df['ymax'] - df['ymin'])/df['height']"
   ]
  },
  {
   "cell_type": "code",
   "execution_count": 122,
   "id": "82b9bf5f-263c-4edd-a85a-3ac4d1f7fbbb",
   "metadata": {},
   "outputs": [
    {
     "data": {
      "text/html": [
       "<div>\n",
       "<style scoped>\n",
       "    .dataframe tbody tr th:only-of-type {\n",
       "        vertical-align: middle;\n",
       "    }\n",
       "\n",
       "    .dataframe tbody tr th {\n",
       "        vertical-align: top;\n",
       "    }\n",
       "\n",
       "    .dataframe thead th {\n",
       "        text-align: right;\n",
       "    }\n",
       "</style>\n",
       "<table border=\"1\" class=\"dataframe\">\n",
       "  <thead>\n",
       "    <tr style=\"text-align: right;\">\n",
       "      <th></th>\n",
       "      <th>filename</th>\n",
       "      <th>width</th>\n",
       "      <th>height</th>\n",
       "      <th>name</th>\n",
       "      <th>xmin</th>\n",
       "      <th>xmax</th>\n",
       "      <th>ymin</th>\n",
       "      <th>ymax</th>\n",
       "      <th>center_x</th>\n",
       "      <th>center_y</th>\n",
       "      <th>w</th>\n",
       "      <th>h</th>\n",
       "    </tr>\n",
       "  </thead>\n",
       "  <tbody>\n",
       "    <tr>\n",
       "      <th>0</th>\n",
       "      <td>bad1_mp4-0000_jpg.rf.4e19812278be2eb9c877d44ae...</td>\n",
       "      <td>640</td>\n",
       "      <td>640</td>\n",
       "      <td>shuttle-P15u</td>\n",
       "      <td>304</td>\n",
       "      <td>307</td>\n",
       "      <td>361</td>\n",
       "      <td>368</td>\n",
       "      <td>0.477344</td>\n",
       "      <td>0.569531</td>\n",
       "      <td>0.004687</td>\n",
       "      <td>0.010937</td>\n",
       "    </tr>\n",
       "    <tr>\n",
       "      <th>1</th>\n",
       "      <td>bad1_mp4-0001_jpg.rf.172fa7d0b38232151a6f0492d...</td>\n",
       "      <td>640</td>\n",
       "      <td>640</td>\n",
       "      <td>shuttle-P15u</td>\n",
       "      <td>304</td>\n",
       "      <td>307</td>\n",
       "      <td>360</td>\n",
       "      <td>367</td>\n",
       "      <td>0.477344</td>\n",
       "      <td>0.567969</td>\n",
       "      <td>0.004687</td>\n",
       "      <td>0.010937</td>\n",
       "    </tr>\n",
       "    <tr>\n",
       "      <th>2</th>\n",
       "      <td>bad1_mp4-0002_jpg.rf.dc95a107f082189fbf81c59a4...</td>\n",
       "      <td>640</td>\n",
       "      <td>640</td>\n",
       "      <td>shuttle-P15u</td>\n",
       "      <td>305</td>\n",
       "      <td>307</td>\n",
       "      <td>360</td>\n",
       "      <td>365</td>\n",
       "      <td>0.478125</td>\n",
       "      <td>0.566406</td>\n",
       "      <td>0.003125</td>\n",
       "      <td>0.007812</td>\n",
       "    </tr>\n",
       "    <tr>\n",
       "      <th>3</th>\n",
       "      <td>bad1_mp4-0003_jpg.rf.c3f72fd3fe4a0adde8a8134f3...</td>\n",
       "      <td>640</td>\n",
       "      <td>640</td>\n",
       "      <td>shuttle-P15u</td>\n",
       "      <td>305</td>\n",
       "      <td>307</td>\n",
       "      <td>358</td>\n",
       "      <td>363</td>\n",
       "      <td>0.478125</td>\n",
       "      <td>0.563281</td>\n",
       "      <td>0.003125</td>\n",
       "      <td>0.007812</td>\n",
       "    </tr>\n",
       "    <tr>\n",
       "      <th>4</th>\n",
       "      <td>bad1_mp4-0004_jpg.rf.29decd8ae789e10ce117c261d...</td>\n",
       "      <td>640</td>\n",
       "      <td>640</td>\n",
       "      <td>shuttle-P15u</td>\n",
       "      <td>305</td>\n",
       "      <td>308</td>\n",
       "      <td>357</td>\n",
       "      <td>362</td>\n",
       "      <td>0.478906</td>\n",
       "      <td>0.561719</td>\n",
       "      <td>0.004687</td>\n",
       "      <td>0.007812</td>\n",
       "    </tr>\n",
       "  </tbody>\n",
       "</table>\n",
       "</div>"
      ],
      "text/plain": [
       "                                            filename  width  height  \\\n",
       "0  bad1_mp4-0000_jpg.rf.4e19812278be2eb9c877d44ae...    640     640   \n",
       "1  bad1_mp4-0001_jpg.rf.172fa7d0b38232151a6f0492d...    640     640   \n",
       "2  bad1_mp4-0002_jpg.rf.dc95a107f082189fbf81c59a4...    640     640   \n",
       "3  bad1_mp4-0003_jpg.rf.c3f72fd3fe4a0adde8a8134f3...    640     640   \n",
       "4  bad1_mp4-0004_jpg.rf.29decd8ae789e10ce117c261d...    640     640   \n",
       "\n",
       "           name  xmin  xmax  ymin  ymax  center_x  center_y         w  \\\n",
       "0  shuttle-P15u   304   307   361   368  0.477344  0.569531  0.004687   \n",
       "1  shuttle-P15u   304   307   360   367  0.477344  0.567969  0.004687   \n",
       "2  shuttle-P15u   305   307   360   365  0.478125  0.566406  0.003125   \n",
       "3  shuttle-P15u   305   307   358   363  0.478125  0.563281  0.003125   \n",
       "4  shuttle-P15u   305   308   357   362  0.478906  0.561719  0.004687   \n",
       "\n",
       "          h  \n",
       "0  0.010937  \n",
       "1  0.010937  \n",
       "2  0.007812  \n",
       "3  0.007812  \n",
       "4  0.007812  "
      ]
     },
     "execution_count": 122,
     "metadata": {},
     "output_type": "execute_result"
    }
   ],
   "source": [
    "df.head()"
   ]
  },
  {
   "cell_type": "code",
   "execution_count": 130,
   "id": "31170f89-b080-47f1-9b81-bcb24c319d81",
   "metadata": {},
   "outputs": [],
   "source": [
    "img = df['filename'].unique()"
   ]
  },
  {
   "cell_type": "code",
   "execution_count": 132,
   "id": "8a9ec9a7-e95c-4024-a0b5-2c22d6fe967b",
   "metadata": {},
   "outputs": [
    {
     "data": {
      "text/plain": [
       "93"
      ]
     },
     "execution_count": 132,
     "metadata": {},
     "output_type": "execute_result"
    }
   ],
   "source": [
    "len(img)"
   ]
  },
  {
   "cell_type": "code",
   "execution_count": 136,
   "id": "203b18d0-8634-4f37-9a8c-8e0c8bc7cc8f",
   "metadata": {},
   "outputs": [],
   "source": [
    "#80 train and 20% test\n",
    "img_df = pd.DataFrame(img,columns=['filename'])\n",
    "img_train = tuple(img_df.sample(frac=0.8)['filename']) #random 80%\n"
   ]
  },
  {
   "cell_type": "code",
   "execution_count": 143,
   "id": "05c182b9-16f1-4900-ad8a-8cc44b272061",
   "metadata": {},
   "outputs": [],
   "source": [
    "img_test = tuple(img_df.query(f'filename not in {img_train}')['filename'])"
   ]
  },
  {
   "cell_type": "code",
   "execution_count": 146,
   "id": "538eb16e-2452-4899-969e-59acc3e20d0e",
   "metadata": {},
   "outputs": [
    {
     "data": {
      "text/plain": [
       "(74, 19)"
      ]
     },
     "execution_count": 146,
     "metadata": {},
     "output_type": "execute_result"
    }
   ],
   "source": [
    "len(img_train),len(img_test)"
   ]
  },
  {
   "cell_type": "code",
   "execution_count": 148,
   "id": "d9648c3a-1635-43b2-948b-ccf6db5e7eb9",
   "metadata": {},
   "outputs": [],
   "source": [
    "train_df = df.query(f'filename in {img_train}')\n",
    "test_df = df.query(f'filename in {img_test}')"
   ]
  },
  {
   "cell_type": "code",
   "execution_count": 150,
   "id": "4ec7cbba-92cb-4ffd-bfff-1da603972b74",
   "metadata": {},
   "outputs": [
    {
     "data": {
      "text/html": [
       "<div>\n",
       "<style scoped>\n",
       "    .dataframe tbody tr th:only-of-type {\n",
       "        vertical-align: middle;\n",
       "    }\n",
       "\n",
       "    .dataframe tbody tr th {\n",
       "        vertical-align: top;\n",
       "    }\n",
       "\n",
       "    .dataframe thead th {\n",
       "        text-align: right;\n",
       "    }\n",
       "</style>\n",
       "<table border=\"1\" class=\"dataframe\">\n",
       "  <thead>\n",
       "    <tr style=\"text-align: right;\">\n",
       "      <th></th>\n",
       "      <th>filename</th>\n",
       "      <th>width</th>\n",
       "      <th>height</th>\n",
       "      <th>name</th>\n",
       "      <th>xmin</th>\n",
       "      <th>xmax</th>\n",
       "      <th>ymin</th>\n",
       "      <th>ymax</th>\n",
       "      <th>center_x</th>\n",
       "      <th>center_y</th>\n",
       "      <th>w</th>\n",
       "      <th>h</th>\n",
       "    </tr>\n",
       "  </thead>\n",
       "  <tbody>\n",
       "    <tr>\n",
       "      <th>1</th>\n",
       "      <td>bad1_mp4-0001_jpg.rf.172fa7d0b38232151a6f0492d...</td>\n",
       "      <td>640</td>\n",
       "      <td>640</td>\n",
       "      <td>shuttle-P15u</td>\n",
       "      <td>304</td>\n",
       "      <td>307</td>\n",
       "      <td>360</td>\n",
       "      <td>367</td>\n",
       "      <td>0.477344</td>\n",
       "      <td>0.567969</td>\n",
       "      <td>0.004687</td>\n",
       "      <td>0.010937</td>\n",
       "    </tr>\n",
       "    <tr>\n",
       "      <th>2</th>\n",
       "      <td>bad1_mp4-0002_jpg.rf.dc95a107f082189fbf81c59a4...</td>\n",
       "      <td>640</td>\n",
       "      <td>640</td>\n",
       "      <td>shuttle-P15u</td>\n",
       "      <td>305</td>\n",
       "      <td>307</td>\n",
       "      <td>360</td>\n",
       "      <td>365</td>\n",
       "      <td>0.478125</td>\n",
       "      <td>0.566406</td>\n",
       "      <td>0.003125</td>\n",
       "      <td>0.007812</td>\n",
       "    </tr>\n",
       "    <tr>\n",
       "      <th>3</th>\n",
       "      <td>bad1_mp4-0003_jpg.rf.c3f72fd3fe4a0adde8a8134f3...</td>\n",
       "      <td>640</td>\n",
       "      <td>640</td>\n",
       "      <td>shuttle-P15u</td>\n",
       "      <td>305</td>\n",
       "      <td>307</td>\n",
       "      <td>358</td>\n",
       "      <td>363</td>\n",
       "      <td>0.478125</td>\n",
       "      <td>0.563281</td>\n",
       "      <td>0.003125</td>\n",
       "      <td>0.007812</td>\n",
       "    </tr>\n",
       "    <tr>\n",
       "      <th>4</th>\n",
       "      <td>bad1_mp4-0004_jpg.rf.29decd8ae789e10ce117c261d...</td>\n",
       "      <td>640</td>\n",
       "      <td>640</td>\n",
       "      <td>shuttle-P15u</td>\n",
       "      <td>305</td>\n",
       "      <td>308</td>\n",
       "      <td>357</td>\n",
       "      <td>362</td>\n",
       "      <td>0.478906</td>\n",
       "      <td>0.561719</td>\n",
       "      <td>0.004687</td>\n",
       "      <td>0.007812</td>\n",
       "    </tr>\n",
       "    <tr>\n",
       "      <th>5</th>\n",
       "      <td>bad1_mp4-0005_jpg.rf.2585b87e769dd837bad724ea2...</td>\n",
       "      <td>640</td>\n",
       "      <td>640</td>\n",
       "      <td>shuttle-P15u</td>\n",
       "      <td>306</td>\n",
       "      <td>308</td>\n",
       "      <td>355</td>\n",
       "      <td>360</td>\n",
       "      <td>0.479687</td>\n",
       "      <td>0.558594</td>\n",
       "      <td>0.003125</td>\n",
       "      <td>0.007812</td>\n",
       "    </tr>\n",
       "  </tbody>\n",
       "</table>\n",
       "</div>"
      ],
      "text/plain": [
       "                                            filename  width  height  \\\n",
       "1  bad1_mp4-0001_jpg.rf.172fa7d0b38232151a6f0492d...    640     640   \n",
       "2  bad1_mp4-0002_jpg.rf.dc95a107f082189fbf81c59a4...    640     640   \n",
       "3  bad1_mp4-0003_jpg.rf.c3f72fd3fe4a0adde8a8134f3...    640     640   \n",
       "4  bad1_mp4-0004_jpg.rf.29decd8ae789e10ce117c261d...    640     640   \n",
       "5  bad1_mp4-0005_jpg.rf.2585b87e769dd837bad724ea2...    640     640   \n",
       "\n",
       "           name  xmin  xmax  ymin  ymax  center_x  center_y         w  \\\n",
       "1  shuttle-P15u   304   307   360   367  0.477344  0.567969  0.004687   \n",
       "2  shuttle-P15u   305   307   360   365  0.478125  0.566406  0.003125   \n",
       "3  shuttle-P15u   305   307   358   363  0.478125  0.563281  0.003125   \n",
       "4  shuttle-P15u   305   308   357   362  0.478906  0.561719  0.004687   \n",
       "5  shuttle-P15u   306   308   355   360  0.479687  0.558594  0.003125   \n",
       "\n",
       "          h  \n",
       "1  0.010937  \n",
       "2  0.007812  \n",
       "3  0.007812  \n",
       "4  0.007812  \n",
       "5  0.007812  "
      ]
     },
     "execution_count": 150,
     "metadata": {},
     "output_type": "execute_result"
    }
   ],
   "source": [
    "train_df.head()"
   ]
  },
  {
   "cell_type": "code",
   "execution_count": 152,
   "id": "f471fdaf-e836-4adf-8328-ee170c25c6c5",
   "metadata": {},
   "outputs": [
    {
     "data": {
      "text/html": [
       "<div>\n",
       "<style scoped>\n",
       "    .dataframe tbody tr th:only-of-type {\n",
       "        vertical-align: middle;\n",
       "    }\n",
       "\n",
       "    .dataframe tbody tr th {\n",
       "        vertical-align: top;\n",
       "    }\n",
       "\n",
       "    .dataframe thead th {\n",
       "        text-align: right;\n",
       "    }\n",
       "</style>\n",
       "<table border=\"1\" class=\"dataframe\">\n",
       "  <thead>\n",
       "    <tr style=\"text-align: right;\">\n",
       "      <th></th>\n",
       "      <th>filename</th>\n",
       "      <th>width</th>\n",
       "      <th>height</th>\n",
       "      <th>name</th>\n",
       "      <th>xmin</th>\n",
       "      <th>xmax</th>\n",
       "      <th>ymin</th>\n",
       "      <th>ymax</th>\n",
       "      <th>center_x</th>\n",
       "      <th>center_y</th>\n",
       "      <th>w</th>\n",
       "      <th>h</th>\n",
       "    </tr>\n",
       "  </thead>\n",
       "  <tbody>\n",
       "    <tr>\n",
       "      <th>0</th>\n",
       "      <td>bad1_mp4-0000_jpg.rf.4e19812278be2eb9c877d44ae...</td>\n",
       "      <td>640</td>\n",
       "      <td>640</td>\n",
       "      <td>shuttle-P15u</td>\n",
       "      <td>304</td>\n",
       "      <td>307</td>\n",
       "      <td>361</td>\n",
       "      <td>368</td>\n",
       "      <td>0.477344</td>\n",
       "      <td>0.569531</td>\n",
       "      <td>0.004687</td>\n",
       "      <td>0.010937</td>\n",
       "    </tr>\n",
       "    <tr>\n",
       "      <th>6</th>\n",
       "      <td>bad1_mp4-0009_jpg.rf.79747d4dc15cfa7b7b37a9d08...</td>\n",
       "      <td>640</td>\n",
       "      <td>640</td>\n",
       "      <td>shuttle-P15u</td>\n",
       "      <td>321</td>\n",
       "      <td>324</td>\n",
       "      <td>300</td>\n",
       "      <td>306</td>\n",
       "      <td>0.503906</td>\n",
       "      <td>0.473438</td>\n",
       "      <td>0.004687</td>\n",
       "      <td>0.009375</td>\n",
       "    </tr>\n",
       "    <tr>\n",
       "      <th>11</th>\n",
       "      <td>bad1_mp4-0014_jpg.rf.de5e7762b524554cbffeaa3ab...</td>\n",
       "      <td>640</td>\n",
       "      <td>640</td>\n",
       "      <td>shuttle-P15u</td>\n",
       "      <td>343</td>\n",
       "      <td>346</td>\n",
       "      <td>264</td>\n",
       "      <td>270</td>\n",
       "      <td>0.538281</td>\n",
       "      <td>0.417187</td>\n",
       "      <td>0.004687</td>\n",
       "      <td>0.009375</td>\n",
       "    </tr>\n",
       "    <tr>\n",
       "      <th>15</th>\n",
       "      <td>bad1_mp4-0018_jpg.rf.7d379e64cb25d968cd13adfa3...</td>\n",
       "      <td>640</td>\n",
       "      <td>640</td>\n",
       "      <td>shuttle-P15u</td>\n",
       "      <td>357</td>\n",
       "      <td>362</td>\n",
       "      <td>265</td>\n",
       "      <td>271</td>\n",
       "      <td>0.561719</td>\n",
       "      <td>0.418750</td>\n",
       "      <td>0.007812</td>\n",
       "      <td>0.009375</td>\n",
       "    </tr>\n",
       "    <tr>\n",
       "      <th>19</th>\n",
       "      <td>bad1_mp4-0023_jpg.rf.6a3941d3c31169be391e52794...</td>\n",
       "      <td>640</td>\n",
       "      <td>640</td>\n",
       "      <td>shuttle-P15u</td>\n",
       "      <td>373</td>\n",
       "      <td>377</td>\n",
       "      <td>239</td>\n",
       "      <td>246</td>\n",
       "      <td>0.585938</td>\n",
       "      <td>0.378906</td>\n",
       "      <td>0.006250</td>\n",
       "      <td>0.010937</td>\n",
       "    </tr>\n",
       "  </tbody>\n",
       "</table>\n",
       "</div>"
      ],
      "text/plain": [
       "                                             filename  width  height  \\\n",
       "0   bad1_mp4-0000_jpg.rf.4e19812278be2eb9c877d44ae...    640     640   \n",
       "6   bad1_mp4-0009_jpg.rf.79747d4dc15cfa7b7b37a9d08...    640     640   \n",
       "11  bad1_mp4-0014_jpg.rf.de5e7762b524554cbffeaa3ab...    640     640   \n",
       "15  bad1_mp4-0018_jpg.rf.7d379e64cb25d968cd13adfa3...    640     640   \n",
       "19  bad1_mp4-0023_jpg.rf.6a3941d3c31169be391e52794...    640     640   \n",
       "\n",
       "            name  xmin  xmax  ymin  ymax  center_x  center_y         w  \\\n",
       "0   shuttle-P15u   304   307   361   368  0.477344  0.569531  0.004687   \n",
       "6   shuttle-P15u   321   324   300   306  0.503906  0.473438  0.004687   \n",
       "11  shuttle-P15u   343   346   264   270  0.538281  0.417187  0.004687   \n",
       "15  shuttle-P15u   357   362   265   271  0.561719  0.418750  0.007812   \n",
       "19  shuttle-P15u   373   377   239   246  0.585938  0.378906  0.006250   \n",
       "\n",
       "           h  \n",
       "0   0.010937  \n",
       "6   0.009375  \n",
       "11  0.009375  \n",
       "15  0.009375  \n",
       "19  0.010937  "
      ]
     },
     "execution_count": 152,
     "metadata": {},
     "output_type": "execute_result"
    }
   ],
   "source": [
    "test_df.head()"
   ]
  },
  {
   "cell_type": "code",
   "execution_count": 158,
   "id": "9d8c8e55-5f8c-4900-af17-d4375c1b9105",
   "metadata": {},
   "outputs": [],
   "source": [
    "def label_encoding(x):\n",
    "    labels = {'shuttle-P15u': 0 }\n",
    "    return labels[x]"
   ]
  },
  {
   "cell_type": "code",
   "execution_count": 161,
   "id": "fbec41ef-a5bb-4e09-855f-180591a4141f",
   "metadata": {},
   "outputs": [
    {
     "name": "stderr",
     "output_type": "stream",
     "text": [
      "C:\\Users\\sayam\\AppData\\Local\\Temp\\ipykernel_2376\\3116627190.py:1: SettingWithCopyWarning: \n",
      "A value is trying to be set on a copy of a slice from a DataFrame.\n",
      "Try using .loc[row_indexer,col_indexer] = value instead\n",
      "\n",
      "See the caveats in the documentation: https://pandas.pydata.org/pandas-docs/stable/user_guide/indexing.html#returning-a-view-versus-a-copy\n",
      "  train_df['id'] = train_df['name'].apply(label_encoding)\n",
      "C:\\Users\\sayam\\AppData\\Local\\Temp\\ipykernel_2376\\3116627190.py:2: SettingWithCopyWarning: \n",
      "A value is trying to be set on a copy of a slice from a DataFrame.\n",
      "Try using .loc[row_indexer,col_indexer] = value instead\n",
      "\n",
      "See the caveats in the documentation: https://pandas.pydata.org/pandas-docs/stable/user_guide/indexing.html#returning-a-view-versus-a-copy\n",
      "  test_df['id'] = test_df['name'].apply(label_encoding)\n"
     ]
    }
   ],
   "source": [
    "train_df['id'] = train_df['name'].apply(label_encoding)\n",
    "test_df['id'] = test_df['name'].apply(label_encoding)"
   ]
  },
  {
   "cell_type": "code",
   "execution_count": 166,
   "id": "30aa592a-ec98-42be-bdcf-73231a201c90",
   "metadata": {},
   "outputs": [
    {
     "data": {
      "text/html": [
       "<div>\n",
       "<style scoped>\n",
       "    .dataframe tbody tr th:only-of-type {\n",
       "        vertical-align: middle;\n",
       "    }\n",
       "\n",
       "    .dataframe tbody tr th {\n",
       "        vertical-align: top;\n",
       "    }\n",
       "\n",
       "    .dataframe thead th {\n",
       "        text-align: right;\n",
       "    }\n",
       "</style>\n",
       "<table border=\"1\" class=\"dataframe\">\n",
       "  <thead>\n",
       "    <tr style=\"text-align: right;\">\n",
       "      <th></th>\n",
       "      <th>filename</th>\n",
       "      <th>width</th>\n",
       "      <th>height</th>\n",
       "      <th>name</th>\n",
       "      <th>xmin</th>\n",
       "      <th>xmax</th>\n",
       "      <th>ymin</th>\n",
       "      <th>ymax</th>\n",
       "      <th>center_x</th>\n",
       "      <th>center_y</th>\n",
       "      <th>w</th>\n",
       "      <th>h</th>\n",
       "      <th>id</th>\n",
       "    </tr>\n",
       "  </thead>\n",
       "  <tbody>\n",
       "    <tr>\n",
       "      <th>1</th>\n",
       "      <td>bad1_mp4-0001_jpg.rf.172fa7d0b38232151a6f0492d...</td>\n",
       "      <td>640</td>\n",
       "      <td>640</td>\n",
       "      <td>shuttle-P15u</td>\n",
       "      <td>304</td>\n",
       "      <td>307</td>\n",
       "      <td>360</td>\n",
       "      <td>367</td>\n",
       "      <td>0.477344</td>\n",
       "      <td>0.567969</td>\n",
       "      <td>0.004687</td>\n",
       "      <td>0.010937</td>\n",
       "      <td>0</td>\n",
       "    </tr>\n",
       "    <tr>\n",
       "      <th>2</th>\n",
       "      <td>bad1_mp4-0002_jpg.rf.dc95a107f082189fbf81c59a4...</td>\n",
       "      <td>640</td>\n",
       "      <td>640</td>\n",
       "      <td>shuttle-P15u</td>\n",
       "      <td>305</td>\n",
       "      <td>307</td>\n",
       "      <td>360</td>\n",
       "      <td>365</td>\n",
       "      <td>0.478125</td>\n",
       "      <td>0.566406</td>\n",
       "      <td>0.003125</td>\n",
       "      <td>0.007812</td>\n",
       "      <td>0</td>\n",
       "    </tr>\n",
       "    <tr>\n",
       "      <th>3</th>\n",
       "      <td>bad1_mp4-0003_jpg.rf.c3f72fd3fe4a0adde8a8134f3...</td>\n",
       "      <td>640</td>\n",
       "      <td>640</td>\n",
       "      <td>shuttle-P15u</td>\n",
       "      <td>305</td>\n",
       "      <td>307</td>\n",
       "      <td>358</td>\n",
       "      <td>363</td>\n",
       "      <td>0.478125</td>\n",
       "      <td>0.563281</td>\n",
       "      <td>0.003125</td>\n",
       "      <td>0.007812</td>\n",
       "      <td>0</td>\n",
       "    </tr>\n",
       "    <tr>\n",
       "      <th>4</th>\n",
       "      <td>bad1_mp4-0004_jpg.rf.29decd8ae789e10ce117c261d...</td>\n",
       "      <td>640</td>\n",
       "      <td>640</td>\n",
       "      <td>shuttle-P15u</td>\n",
       "      <td>305</td>\n",
       "      <td>308</td>\n",
       "      <td>357</td>\n",
       "      <td>362</td>\n",
       "      <td>0.478906</td>\n",
       "      <td>0.561719</td>\n",
       "      <td>0.004687</td>\n",
       "      <td>0.007812</td>\n",
       "      <td>0</td>\n",
       "    </tr>\n",
       "    <tr>\n",
       "      <th>5</th>\n",
       "      <td>bad1_mp4-0005_jpg.rf.2585b87e769dd837bad724ea2...</td>\n",
       "      <td>640</td>\n",
       "      <td>640</td>\n",
       "      <td>shuttle-P15u</td>\n",
       "      <td>306</td>\n",
       "      <td>308</td>\n",
       "      <td>355</td>\n",
       "      <td>360</td>\n",
       "      <td>0.479687</td>\n",
       "      <td>0.558594</td>\n",
       "      <td>0.003125</td>\n",
       "      <td>0.007812</td>\n",
       "      <td>0</td>\n",
       "    </tr>\n",
       "  </tbody>\n",
       "</table>\n",
       "</div>"
      ],
      "text/plain": [
       "                                            filename  width  height  \\\n",
       "1  bad1_mp4-0001_jpg.rf.172fa7d0b38232151a6f0492d...    640     640   \n",
       "2  bad1_mp4-0002_jpg.rf.dc95a107f082189fbf81c59a4...    640     640   \n",
       "3  bad1_mp4-0003_jpg.rf.c3f72fd3fe4a0adde8a8134f3...    640     640   \n",
       "4  bad1_mp4-0004_jpg.rf.29decd8ae789e10ce117c261d...    640     640   \n",
       "5  bad1_mp4-0005_jpg.rf.2585b87e769dd837bad724ea2...    640     640   \n",
       "\n",
       "           name  xmin  xmax  ymin  ymax  center_x  center_y         w  \\\n",
       "1  shuttle-P15u   304   307   360   367  0.477344  0.567969  0.004687   \n",
       "2  shuttle-P15u   305   307   360   365  0.478125  0.566406  0.003125   \n",
       "3  shuttle-P15u   305   307   358   363  0.478125  0.563281  0.003125   \n",
       "4  shuttle-P15u   305   308   357   362  0.478906  0.561719  0.004687   \n",
       "5  shuttle-P15u   306   308   355   360  0.479687  0.558594  0.003125   \n",
       "\n",
       "          h  id  \n",
       "1  0.010937   0  \n",
       "2  0.007812   0  \n",
       "3  0.007812   0  \n",
       "4  0.007812   0  \n",
       "5  0.007812   0  "
      ]
     },
     "execution_count": 166,
     "metadata": {},
     "output_type": "execute_result"
    }
   ],
   "source": [
    "train_df.head()"
   ]
  },
  {
   "cell_type": "code",
   "execution_count": 165,
   "id": "e4c2dc71-454a-4648-a87c-d90ca8e118bb",
   "metadata": {},
   "outputs": [
    {
     "data": {
      "text/html": [
       "<div>\n",
       "<style scoped>\n",
       "    .dataframe tbody tr th:only-of-type {\n",
       "        vertical-align: middle;\n",
       "    }\n",
       "\n",
       "    .dataframe tbody tr th {\n",
       "        vertical-align: top;\n",
       "    }\n",
       "\n",
       "    .dataframe thead th {\n",
       "        text-align: right;\n",
       "    }\n",
       "</style>\n",
       "<table border=\"1\" class=\"dataframe\">\n",
       "  <thead>\n",
       "    <tr style=\"text-align: right;\">\n",
       "      <th></th>\n",
       "      <th>filename</th>\n",
       "      <th>width</th>\n",
       "      <th>height</th>\n",
       "      <th>name</th>\n",
       "      <th>xmin</th>\n",
       "      <th>xmax</th>\n",
       "      <th>ymin</th>\n",
       "      <th>ymax</th>\n",
       "      <th>center_x</th>\n",
       "      <th>center_y</th>\n",
       "      <th>w</th>\n",
       "      <th>h</th>\n",
       "      <th>id</th>\n",
       "    </tr>\n",
       "  </thead>\n",
       "  <tbody>\n",
       "    <tr>\n",
       "      <th>0</th>\n",
       "      <td>bad1_mp4-0000_jpg.rf.4e19812278be2eb9c877d44ae...</td>\n",
       "      <td>640</td>\n",
       "      <td>640</td>\n",
       "      <td>shuttle-P15u</td>\n",
       "      <td>304</td>\n",
       "      <td>307</td>\n",
       "      <td>361</td>\n",
       "      <td>368</td>\n",
       "      <td>0.477344</td>\n",
       "      <td>0.569531</td>\n",
       "      <td>0.004687</td>\n",
       "      <td>0.010937</td>\n",
       "      <td>0</td>\n",
       "    </tr>\n",
       "    <tr>\n",
       "      <th>6</th>\n",
       "      <td>bad1_mp4-0009_jpg.rf.79747d4dc15cfa7b7b37a9d08...</td>\n",
       "      <td>640</td>\n",
       "      <td>640</td>\n",
       "      <td>shuttle-P15u</td>\n",
       "      <td>321</td>\n",
       "      <td>324</td>\n",
       "      <td>300</td>\n",
       "      <td>306</td>\n",
       "      <td>0.503906</td>\n",
       "      <td>0.473438</td>\n",
       "      <td>0.004687</td>\n",
       "      <td>0.009375</td>\n",
       "      <td>0</td>\n",
       "    </tr>\n",
       "    <tr>\n",
       "      <th>11</th>\n",
       "      <td>bad1_mp4-0014_jpg.rf.de5e7762b524554cbffeaa3ab...</td>\n",
       "      <td>640</td>\n",
       "      <td>640</td>\n",
       "      <td>shuttle-P15u</td>\n",
       "      <td>343</td>\n",
       "      <td>346</td>\n",
       "      <td>264</td>\n",
       "      <td>270</td>\n",
       "      <td>0.538281</td>\n",
       "      <td>0.417187</td>\n",
       "      <td>0.004687</td>\n",
       "      <td>0.009375</td>\n",
       "      <td>0</td>\n",
       "    </tr>\n",
       "    <tr>\n",
       "      <th>15</th>\n",
       "      <td>bad1_mp4-0018_jpg.rf.7d379e64cb25d968cd13adfa3...</td>\n",
       "      <td>640</td>\n",
       "      <td>640</td>\n",
       "      <td>shuttle-P15u</td>\n",
       "      <td>357</td>\n",
       "      <td>362</td>\n",
       "      <td>265</td>\n",
       "      <td>271</td>\n",
       "      <td>0.561719</td>\n",
       "      <td>0.418750</td>\n",
       "      <td>0.007812</td>\n",
       "      <td>0.009375</td>\n",
       "      <td>0</td>\n",
       "    </tr>\n",
       "    <tr>\n",
       "      <th>19</th>\n",
       "      <td>bad1_mp4-0023_jpg.rf.6a3941d3c31169be391e52794...</td>\n",
       "      <td>640</td>\n",
       "      <td>640</td>\n",
       "      <td>shuttle-P15u</td>\n",
       "      <td>373</td>\n",
       "      <td>377</td>\n",
       "      <td>239</td>\n",
       "      <td>246</td>\n",
       "      <td>0.585938</td>\n",
       "      <td>0.378906</td>\n",
       "      <td>0.006250</td>\n",
       "      <td>0.010937</td>\n",
       "      <td>0</td>\n",
       "    </tr>\n",
       "  </tbody>\n",
       "</table>\n",
       "</div>"
      ],
      "text/plain": [
       "                                             filename  width  height  \\\n",
       "0   bad1_mp4-0000_jpg.rf.4e19812278be2eb9c877d44ae...    640     640   \n",
       "6   bad1_mp4-0009_jpg.rf.79747d4dc15cfa7b7b37a9d08...    640     640   \n",
       "11  bad1_mp4-0014_jpg.rf.de5e7762b524554cbffeaa3ab...    640     640   \n",
       "15  bad1_mp4-0018_jpg.rf.7d379e64cb25d968cd13adfa3...    640     640   \n",
       "19  bad1_mp4-0023_jpg.rf.6a3941d3c31169be391e52794...    640     640   \n",
       "\n",
       "            name  xmin  xmax  ymin  ymax  center_x  center_y         w  \\\n",
       "0   shuttle-P15u   304   307   361   368  0.477344  0.569531  0.004687   \n",
       "6   shuttle-P15u   321   324   300   306  0.503906  0.473438  0.004687   \n",
       "11  shuttle-P15u   343   346   264   270  0.538281  0.417187  0.004687   \n",
       "15  shuttle-P15u   357   362   265   271  0.561719  0.418750  0.007812   \n",
       "19  shuttle-P15u   373   377   239   246  0.585938  0.378906  0.006250   \n",
       "\n",
       "           h  id  \n",
       "0   0.010937   0  \n",
       "6   0.009375   0  \n",
       "11  0.009375   0  \n",
       "15  0.009375   0  \n",
       "19  0.010937   0  "
      ]
     },
     "execution_count": 165,
     "metadata": {},
     "output_type": "execute_result"
    }
   ],
   "source": [
    "test_df.head()"
   ]
  },
  {
   "cell_type": "code",
   "execution_count": 168,
   "id": "f03081eb-c170-48ce-829b-9cba4188ef27",
   "metadata": {},
   "outputs": [],
   "source": [
    "#save image\n",
    "import os\n",
    "from shutil import move\n"
   ]
  },
  {
   "cell_type": "code",
   "execution_count": 171,
   "id": "7af30974-a625-469b-9ba4-3a701fc24398",
   "metadata": {},
   "outputs": [
    {
     "ename": "FileExistsError",
     "evalue": "[WinError 183] Cannot create a file when that file already exists: 'data_images/train'",
     "output_type": "error",
     "traceback": [
      "\u001b[1;31m---------------------------------------------------------------------------\u001b[0m",
      "\u001b[1;31mFileExistsError\u001b[0m                           Traceback (most recent call last)",
      "Cell \u001b[1;32mIn[171], line 4\u001b[0m\n\u001b[0;32m      1\u001b[0m train_folder \u001b[38;5;241m=\u001b[39m \u001b[38;5;124m'\u001b[39m\u001b[38;5;124mdata_images/train\u001b[39m\u001b[38;5;124m'\u001b[39m\n\u001b[0;32m      2\u001b[0m test_folder \u001b[38;5;241m=\u001b[39m \u001b[38;5;124m'\u001b[39m\u001b[38;5;124mdata_images/test\u001b[39m\u001b[38;5;124m'\u001b[39m\n\u001b[1;32m----> 4\u001b[0m \u001b[43mos\u001b[49m\u001b[38;5;241;43m.\u001b[39;49m\u001b[43mmkdir\u001b[49m\u001b[43m(\u001b[49m\u001b[43mtrain_folder\u001b[49m\u001b[43m)\u001b[49m\n\u001b[0;32m      5\u001b[0m os\u001b[38;5;241m.\u001b[39mmkdir(test_folder)\n",
      "\u001b[1;31mFileExistsError\u001b[0m: [WinError 183] Cannot create a file when that file already exists: 'data_images/train'"
     ]
    }
   ],
   "source": [
    "train_folder = 'data_images/train'\n",
    "test_folder = 'data_images/test'\n",
    "\n",
    "os.mkdir(train_folder)\n",
    "os.mkdir(test_folder)"
   ]
  },
  {
   "cell_type": "code",
   "execution_count": 175,
   "id": "eac75886-1fb0-4d1c-8731-55e3a355856c",
   "metadata": {},
   "outputs": [],
   "source": [
    "cols = ['filename','id','center_x','center_y','w','h']\n",
    "groupby_obj_train = train_df[cols].groupby('filename')\n",
    "groupby_obj_test = test_df[cols].groupby('filename')"
   ]
  },
  {
   "cell_type": "code",
   "execution_count": 186,
   "id": "cf717837-9554-45d2-81c6-bce6ab639972",
   "metadata": {},
   "outputs": [],
   "source": [
    "#groupby_obj_train.get_group('bad1_mp4-0001_jpg.rf.172fa7d0b38232151a6f0492dda827ac.jpg').set_index('filename').to_csv('sample.txt',index = False,header=False)\n",
    "# save each image in train/test folder in .txt\n",
    "def save_data(filename,folder_path,group_obj):\n",
    "    #move image\n",
    "    src = os.path.join('data_images',filename)\n",
    "    dst = os.path.join(folder_path,filename)\n",
    "    move(src,dst) # move image to dst folder\n",
    "\n",
    "    # save the labels\n",
    "    text_filename = os.path.join(folder_path,\n",
    "                                 os.path.splitext(filename)[0]+'.txt')\n",
    "    group_obj.get_group(filename).set_index('filename').to_csv(text_filename,sep=' ',index = False,header=False)"
   ]
  },
  {
   "cell_type": "code",
   "execution_count": 190,
   "id": "6f126c5a-ea40-4100-b7f6-6b3c67edf9b3",
   "metadata": {},
   "outputs": [],
   "source": [
    "filename_series = pd.Series(groupby_obj_train.groups.keys())"
   ]
  },
  {
   "cell_type": "code",
   "execution_count": 195,
   "id": "e0f11750-0fc6-4c5a-83b9-d1ffec8f96fd",
   "metadata": {},
   "outputs": [
    {
     "ename": "FileNotFoundError",
     "evalue": "[Errno 2] No such file or directory: 'data_images\\\\bad1_mp4-0001_jpg.rf.172fa7d0b38232151a6f0492dda827ac.jpg'",
     "output_type": "error",
     "traceback": [
      "\u001b[1;31m---------------------------------------------------------------------------\u001b[0m",
      "\u001b[1;31mFileNotFoundError\u001b[0m                         Traceback (most recent call last)",
      "File \u001b[1;32mC:\\Program Files\\Python311\\Lib\\shutil.py:825\u001b[0m, in \u001b[0;36mmove\u001b[1;34m(src, dst, copy_function)\u001b[0m\n\u001b[0;32m    824\u001b[0m \u001b[38;5;28;01mtry\u001b[39;00m:\n\u001b[1;32m--> 825\u001b[0m     os\u001b[38;5;241m.\u001b[39mrename(src, real_dst)\n\u001b[0;32m    826\u001b[0m \u001b[38;5;28;01mexcept\u001b[39;00m \u001b[38;5;167;01mOSError\u001b[39;00m:\n",
      "\u001b[1;31mFileNotFoundError\u001b[0m: [WinError 2] The system cannot find the file specified: 'data_images\\\\bad1_mp4-0001_jpg.rf.172fa7d0b38232151a6f0492dda827ac.jpg' -> 'data_images/train\\\\bad1_mp4-0001_jpg.rf.172fa7d0b38232151a6f0492dda827ac.jpg'",
      "\nDuring handling of the above exception, another exception occurred:\n",
      "\u001b[1;31mFileNotFoundError\u001b[0m                         Traceback (most recent call last)",
      "Cell \u001b[1;32mIn[195], line 1\u001b[0m\n\u001b[1;32m----> 1\u001b[0m \u001b[43mfilename_series\u001b[49m\u001b[38;5;241;43m.\u001b[39;49m\u001b[43mapply\u001b[49m\u001b[43m(\u001b[49m\u001b[43msave_data\u001b[49m\u001b[43m,\u001b[49m\u001b[43margs\u001b[49m\u001b[38;5;241;43m=\u001b[39;49m\u001b[43m(\u001b[49m\u001b[43mtrain_folder\u001b[49m\u001b[43m,\u001b[49m\u001b[43mgroupby_obj_train\u001b[49m\u001b[43m)\u001b[49m\u001b[43m)\u001b[49m\n",
      "File \u001b[1;32m~\\OneDrive\\Desktop\\major2\\myenv\\Lib\\site-packages\\pandas\\core\\series.py:4924\u001b[0m, in \u001b[0;36mSeries.apply\u001b[1;34m(self, func, convert_dtype, args, by_row, **kwargs)\u001b[0m\n\u001b[0;32m   4789\u001b[0m \u001b[38;5;28;01mdef\u001b[39;00m \u001b[38;5;21mapply\u001b[39m(\n\u001b[0;32m   4790\u001b[0m     \u001b[38;5;28mself\u001b[39m,\n\u001b[0;32m   4791\u001b[0m     func: AggFuncType,\n\u001b[1;32m   (...)\u001b[0m\n\u001b[0;32m   4796\u001b[0m     \u001b[38;5;241m*\u001b[39m\u001b[38;5;241m*\u001b[39mkwargs,\n\u001b[0;32m   4797\u001b[0m ) \u001b[38;5;241m-\u001b[39m\u001b[38;5;241m>\u001b[39m DataFrame \u001b[38;5;241m|\u001b[39m Series:\n\u001b[0;32m   4798\u001b[0m \u001b[38;5;250m    \u001b[39m\u001b[38;5;124;03m\"\"\"\u001b[39;00m\n\u001b[0;32m   4799\u001b[0m \u001b[38;5;124;03m    Invoke function on values of Series.\u001b[39;00m\n\u001b[0;32m   4800\u001b[0m \n\u001b[1;32m   (...)\u001b[0m\n\u001b[0;32m   4915\u001b[0m \u001b[38;5;124;03m    dtype: float64\u001b[39;00m\n\u001b[0;32m   4916\u001b[0m \u001b[38;5;124;03m    \"\"\"\u001b[39;00m\n\u001b[0;32m   4917\u001b[0m     \u001b[38;5;28;01mreturn\u001b[39;00m \u001b[43mSeriesApply\u001b[49m\u001b[43m(\u001b[49m\n\u001b[0;32m   4918\u001b[0m \u001b[43m        \u001b[49m\u001b[38;5;28;43mself\u001b[39;49m\u001b[43m,\u001b[49m\n\u001b[0;32m   4919\u001b[0m \u001b[43m        \u001b[49m\u001b[43mfunc\u001b[49m\u001b[43m,\u001b[49m\n\u001b[0;32m   4920\u001b[0m \u001b[43m        \u001b[49m\u001b[43mconvert_dtype\u001b[49m\u001b[38;5;241;43m=\u001b[39;49m\u001b[43mconvert_dtype\u001b[49m\u001b[43m,\u001b[49m\n\u001b[0;32m   4921\u001b[0m \u001b[43m        \u001b[49m\u001b[43mby_row\u001b[49m\u001b[38;5;241;43m=\u001b[39;49m\u001b[43mby_row\u001b[49m\u001b[43m,\u001b[49m\n\u001b[0;32m   4922\u001b[0m \u001b[43m        \u001b[49m\u001b[43margs\u001b[49m\u001b[38;5;241;43m=\u001b[39;49m\u001b[43margs\u001b[49m\u001b[43m,\u001b[49m\n\u001b[0;32m   4923\u001b[0m \u001b[43m        \u001b[49m\u001b[43mkwargs\u001b[49m\u001b[38;5;241;43m=\u001b[39;49m\u001b[43mkwargs\u001b[49m\u001b[43m,\u001b[49m\n\u001b[1;32m-> 4924\u001b[0m \u001b[43m    \u001b[49m\u001b[43m)\u001b[49m\u001b[38;5;241;43m.\u001b[39;49m\u001b[43mapply\u001b[49m\u001b[43m(\u001b[49m\u001b[43m)\u001b[49m\n",
      "File \u001b[1;32m~\\OneDrive\\Desktop\\major2\\myenv\\Lib\\site-packages\\pandas\\core\\apply.py:1427\u001b[0m, in \u001b[0;36mSeriesApply.apply\u001b[1;34m(self)\u001b[0m\n\u001b[0;32m   1424\u001b[0m     \u001b[38;5;28;01mreturn\u001b[39;00m \u001b[38;5;28mself\u001b[39m\u001b[38;5;241m.\u001b[39mapply_compat()\n\u001b[0;32m   1426\u001b[0m \u001b[38;5;66;03m# self.func is Callable\u001b[39;00m\n\u001b[1;32m-> 1427\u001b[0m \u001b[38;5;28;01mreturn\u001b[39;00m \u001b[38;5;28;43mself\u001b[39;49m\u001b[38;5;241;43m.\u001b[39;49m\u001b[43mapply_standard\u001b[49m\u001b[43m(\u001b[49m\u001b[43m)\u001b[49m\n",
      "File \u001b[1;32m~\\OneDrive\\Desktop\\major2\\myenv\\Lib\\site-packages\\pandas\\core\\apply.py:1507\u001b[0m, in \u001b[0;36mSeriesApply.apply_standard\u001b[1;34m(self)\u001b[0m\n\u001b[0;32m   1501\u001b[0m \u001b[38;5;66;03m# row-wise access\u001b[39;00m\n\u001b[0;32m   1502\u001b[0m \u001b[38;5;66;03m# apply doesn't have a `na_action` keyword and for backward compat reasons\u001b[39;00m\n\u001b[0;32m   1503\u001b[0m \u001b[38;5;66;03m# we need to give `na_action=\"ignore\"` for categorical data.\u001b[39;00m\n\u001b[0;32m   1504\u001b[0m \u001b[38;5;66;03m# TODO: remove the `na_action=\"ignore\"` when that default has been changed in\u001b[39;00m\n\u001b[0;32m   1505\u001b[0m \u001b[38;5;66;03m#  Categorical (GH51645).\u001b[39;00m\n\u001b[0;32m   1506\u001b[0m action \u001b[38;5;241m=\u001b[39m \u001b[38;5;124m\"\u001b[39m\u001b[38;5;124mignore\u001b[39m\u001b[38;5;124m\"\u001b[39m \u001b[38;5;28;01mif\u001b[39;00m \u001b[38;5;28misinstance\u001b[39m(obj\u001b[38;5;241m.\u001b[39mdtype, CategoricalDtype) \u001b[38;5;28;01melse\u001b[39;00m \u001b[38;5;28;01mNone\u001b[39;00m\n\u001b[1;32m-> 1507\u001b[0m mapped \u001b[38;5;241m=\u001b[39m \u001b[43mobj\u001b[49m\u001b[38;5;241;43m.\u001b[39;49m\u001b[43m_map_values\u001b[49m\u001b[43m(\u001b[49m\n\u001b[0;32m   1508\u001b[0m \u001b[43m    \u001b[49m\u001b[43mmapper\u001b[49m\u001b[38;5;241;43m=\u001b[39;49m\u001b[43mcurried\u001b[49m\u001b[43m,\u001b[49m\u001b[43m \u001b[49m\u001b[43mna_action\u001b[49m\u001b[38;5;241;43m=\u001b[39;49m\u001b[43maction\u001b[49m\u001b[43m,\u001b[49m\u001b[43m \u001b[49m\u001b[43mconvert\u001b[49m\u001b[38;5;241;43m=\u001b[39;49m\u001b[38;5;28;43mself\u001b[39;49m\u001b[38;5;241;43m.\u001b[39;49m\u001b[43mconvert_dtype\u001b[49m\n\u001b[0;32m   1509\u001b[0m \u001b[43m\u001b[49m\u001b[43m)\u001b[49m\n\u001b[0;32m   1511\u001b[0m \u001b[38;5;28;01mif\u001b[39;00m \u001b[38;5;28mlen\u001b[39m(mapped) \u001b[38;5;129;01mand\u001b[39;00m \u001b[38;5;28misinstance\u001b[39m(mapped[\u001b[38;5;241m0\u001b[39m], ABCSeries):\n\u001b[0;32m   1512\u001b[0m     \u001b[38;5;66;03m# GH#43986 Need to do list(mapped) in order to get treated as nested\u001b[39;00m\n\u001b[0;32m   1513\u001b[0m     \u001b[38;5;66;03m#  See also GH#25959 regarding EA support\u001b[39;00m\n\u001b[0;32m   1514\u001b[0m     \u001b[38;5;28;01mreturn\u001b[39;00m obj\u001b[38;5;241m.\u001b[39m_constructor_expanddim(\u001b[38;5;28mlist\u001b[39m(mapped), index\u001b[38;5;241m=\u001b[39mobj\u001b[38;5;241m.\u001b[39mindex)\n",
      "File \u001b[1;32m~\\OneDrive\\Desktop\\major2\\myenv\\Lib\\site-packages\\pandas\\core\\base.py:921\u001b[0m, in \u001b[0;36mIndexOpsMixin._map_values\u001b[1;34m(self, mapper, na_action, convert)\u001b[0m\n\u001b[0;32m    918\u001b[0m \u001b[38;5;28;01mif\u001b[39;00m \u001b[38;5;28misinstance\u001b[39m(arr, ExtensionArray):\n\u001b[0;32m    919\u001b[0m     \u001b[38;5;28;01mreturn\u001b[39;00m arr\u001b[38;5;241m.\u001b[39mmap(mapper, na_action\u001b[38;5;241m=\u001b[39mna_action)\n\u001b[1;32m--> 921\u001b[0m \u001b[38;5;28;01mreturn\u001b[39;00m \u001b[43malgorithms\u001b[49m\u001b[38;5;241;43m.\u001b[39;49m\u001b[43mmap_array\u001b[49m\u001b[43m(\u001b[49m\u001b[43marr\u001b[49m\u001b[43m,\u001b[49m\u001b[43m \u001b[49m\u001b[43mmapper\u001b[49m\u001b[43m,\u001b[49m\u001b[43m \u001b[49m\u001b[43mna_action\u001b[49m\u001b[38;5;241;43m=\u001b[39;49m\u001b[43mna_action\u001b[49m\u001b[43m,\u001b[49m\u001b[43m \u001b[49m\u001b[43mconvert\u001b[49m\u001b[38;5;241;43m=\u001b[39;49m\u001b[43mconvert\u001b[49m\u001b[43m)\u001b[49m\n",
      "File \u001b[1;32m~\\OneDrive\\Desktop\\major2\\myenv\\Lib\\site-packages\\pandas\\core\\algorithms.py:1743\u001b[0m, in \u001b[0;36mmap_array\u001b[1;34m(arr, mapper, na_action, convert)\u001b[0m\n\u001b[0;32m   1741\u001b[0m values \u001b[38;5;241m=\u001b[39m arr\u001b[38;5;241m.\u001b[39mastype(\u001b[38;5;28mobject\u001b[39m, copy\u001b[38;5;241m=\u001b[39m\u001b[38;5;28;01mFalse\u001b[39;00m)\n\u001b[0;32m   1742\u001b[0m \u001b[38;5;28;01mif\u001b[39;00m na_action \u001b[38;5;129;01mis\u001b[39;00m \u001b[38;5;28;01mNone\u001b[39;00m:\n\u001b[1;32m-> 1743\u001b[0m     \u001b[38;5;28;01mreturn\u001b[39;00m \u001b[43mlib\u001b[49m\u001b[38;5;241;43m.\u001b[39;49m\u001b[43mmap_infer\u001b[49m\u001b[43m(\u001b[49m\u001b[43mvalues\u001b[49m\u001b[43m,\u001b[49m\u001b[43m \u001b[49m\u001b[43mmapper\u001b[49m\u001b[43m,\u001b[49m\u001b[43m \u001b[49m\u001b[43mconvert\u001b[49m\u001b[38;5;241;43m=\u001b[39;49m\u001b[43mconvert\u001b[49m\u001b[43m)\u001b[49m\n\u001b[0;32m   1744\u001b[0m \u001b[38;5;28;01melse\u001b[39;00m:\n\u001b[0;32m   1745\u001b[0m     \u001b[38;5;28;01mreturn\u001b[39;00m lib\u001b[38;5;241m.\u001b[39mmap_infer_mask(\n\u001b[0;32m   1746\u001b[0m         values, mapper, mask\u001b[38;5;241m=\u001b[39misna(values)\u001b[38;5;241m.\u001b[39mview(np\u001b[38;5;241m.\u001b[39muint8), convert\u001b[38;5;241m=\u001b[39mconvert\n\u001b[0;32m   1747\u001b[0m     )\n",
      "File \u001b[1;32mlib.pyx:2972\u001b[0m, in \u001b[0;36mpandas._libs.lib.map_infer\u001b[1;34m()\u001b[0m\n",
      "File \u001b[1;32m~\\OneDrive\\Desktop\\major2\\myenv\\Lib\\site-packages\\pandas\\core\\apply.py:1496\u001b[0m, in \u001b[0;36mSeriesApply.apply_standard.<locals>.curried\u001b[1;34m(x)\u001b[0m\n\u001b[0;32m   1495\u001b[0m \u001b[38;5;28;01mdef\u001b[39;00m \u001b[38;5;21mcurried\u001b[39m(x):\n\u001b[1;32m-> 1496\u001b[0m     \u001b[38;5;28;01mreturn\u001b[39;00m \u001b[43mfunc\u001b[49m\u001b[43m(\u001b[49m\u001b[43mx\u001b[49m\u001b[43m,\u001b[49m\u001b[43m \u001b[49m\u001b[38;5;241;43m*\u001b[39;49m\u001b[38;5;28;43mself\u001b[39;49m\u001b[38;5;241;43m.\u001b[39;49m\u001b[43margs\u001b[49m\u001b[43m,\u001b[49m\u001b[43m \u001b[49m\u001b[38;5;241;43m*\u001b[39;49m\u001b[38;5;241;43m*\u001b[39;49m\u001b[38;5;28;43mself\u001b[39;49m\u001b[38;5;241;43m.\u001b[39;49m\u001b[43mkwargs\u001b[49m\u001b[43m)\u001b[49m\n",
      "Cell \u001b[1;32mIn[186], line 7\u001b[0m, in \u001b[0;36msave_data\u001b[1;34m(filename, folder_path, group_obj)\u001b[0m\n\u001b[0;32m      5\u001b[0m src \u001b[38;5;241m=\u001b[39m os\u001b[38;5;241m.\u001b[39mpath\u001b[38;5;241m.\u001b[39mjoin(\u001b[38;5;124m'\u001b[39m\u001b[38;5;124mdata_images\u001b[39m\u001b[38;5;124m'\u001b[39m,filename)\n\u001b[0;32m      6\u001b[0m dst \u001b[38;5;241m=\u001b[39m os\u001b[38;5;241m.\u001b[39mpath\u001b[38;5;241m.\u001b[39mjoin(folder_path,filename)\n\u001b[1;32m----> 7\u001b[0m \u001b[43mmove\u001b[49m\u001b[43m(\u001b[49m\u001b[43msrc\u001b[49m\u001b[43m,\u001b[49m\u001b[43mdst\u001b[49m\u001b[43m)\u001b[49m \u001b[38;5;66;03m# move image to dst folder\u001b[39;00m\n\u001b[0;32m      9\u001b[0m \u001b[38;5;66;03m# save the labels\u001b[39;00m\n\u001b[0;32m     10\u001b[0m text_filename \u001b[38;5;241m=\u001b[39m os\u001b[38;5;241m.\u001b[39mpath\u001b[38;5;241m.\u001b[39mjoin(folder_path,\n\u001b[0;32m     11\u001b[0m                              os\u001b[38;5;241m.\u001b[39mpath\u001b[38;5;241m.\u001b[39msplitext(filename)[\u001b[38;5;241m0\u001b[39m]\u001b[38;5;241m+\u001b[39m\u001b[38;5;124m'\u001b[39m\u001b[38;5;124m.txt\u001b[39m\u001b[38;5;124m'\u001b[39m)\n",
      "File \u001b[1;32mC:\\Program Files\\Python311\\Lib\\shutil.py:845\u001b[0m, in \u001b[0;36mmove\u001b[1;34m(src, dst, copy_function)\u001b[0m\n\u001b[0;32m    843\u001b[0m         rmtree(src)\n\u001b[0;32m    844\u001b[0m     \u001b[38;5;28;01melse\u001b[39;00m:\n\u001b[1;32m--> 845\u001b[0m         \u001b[43mcopy_function\u001b[49m\u001b[43m(\u001b[49m\u001b[43msrc\u001b[49m\u001b[43m,\u001b[49m\u001b[43m \u001b[49m\u001b[43mreal_dst\u001b[49m\u001b[43m)\u001b[49m\n\u001b[0;32m    846\u001b[0m         os\u001b[38;5;241m.\u001b[39munlink(src)\n\u001b[0;32m    847\u001b[0m \u001b[38;5;28;01mreturn\u001b[39;00m real_dst\n",
      "File \u001b[1;32mC:\\Program Files\\Python311\\Lib\\shutil.py:436\u001b[0m, in \u001b[0;36mcopy2\u001b[1;34m(src, dst, follow_symlinks)\u001b[0m\n\u001b[0;32m    434\u001b[0m \u001b[38;5;28;01mif\u001b[39;00m os\u001b[38;5;241m.\u001b[39mpath\u001b[38;5;241m.\u001b[39misdir(dst):\n\u001b[0;32m    435\u001b[0m     dst \u001b[38;5;241m=\u001b[39m os\u001b[38;5;241m.\u001b[39mpath\u001b[38;5;241m.\u001b[39mjoin(dst, os\u001b[38;5;241m.\u001b[39mpath\u001b[38;5;241m.\u001b[39mbasename(src))\n\u001b[1;32m--> 436\u001b[0m \u001b[43mcopyfile\u001b[49m\u001b[43m(\u001b[49m\u001b[43msrc\u001b[49m\u001b[43m,\u001b[49m\u001b[43m \u001b[49m\u001b[43mdst\u001b[49m\u001b[43m,\u001b[49m\u001b[43m \u001b[49m\u001b[43mfollow_symlinks\u001b[49m\u001b[38;5;241;43m=\u001b[39;49m\u001b[43mfollow_symlinks\u001b[49m\u001b[43m)\u001b[49m\n\u001b[0;32m    437\u001b[0m copystat(src, dst, follow_symlinks\u001b[38;5;241m=\u001b[39mfollow_symlinks)\n\u001b[0;32m    438\u001b[0m \u001b[38;5;28;01mreturn\u001b[39;00m dst\n",
      "File \u001b[1;32mC:\\Program Files\\Python311\\Lib\\shutil.py:256\u001b[0m, in \u001b[0;36mcopyfile\u001b[1;34m(src, dst, follow_symlinks)\u001b[0m\n\u001b[0;32m    254\u001b[0m     os\u001b[38;5;241m.\u001b[39msymlink(os\u001b[38;5;241m.\u001b[39mreadlink(src), dst)\n\u001b[0;32m    255\u001b[0m \u001b[38;5;28;01melse\u001b[39;00m:\n\u001b[1;32m--> 256\u001b[0m     \u001b[38;5;28;01mwith\u001b[39;00m \u001b[38;5;28;43mopen\u001b[39;49m\u001b[43m(\u001b[49m\u001b[43msrc\u001b[49m\u001b[43m,\u001b[49m\u001b[43m \u001b[49m\u001b[38;5;124;43m'\u001b[39;49m\u001b[38;5;124;43mrb\u001b[39;49m\u001b[38;5;124;43m'\u001b[39;49m\u001b[43m)\u001b[49m \u001b[38;5;28;01mas\u001b[39;00m fsrc:\n\u001b[0;32m    257\u001b[0m         \u001b[38;5;28;01mtry\u001b[39;00m:\n\u001b[0;32m    258\u001b[0m             \u001b[38;5;28;01mwith\u001b[39;00m \u001b[38;5;28mopen\u001b[39m(dst, \u001b[38;5;124m'\u001b[39m\u001b[38;5;124mwb\u001b[39m\u001b[38;5;124m'\u001b[39m) \u001b[38;5;28;01mas\u001b[39;00m fdst:\n\u001b[0;32m    259\u001b[0m                 \u001b[38;5;66;03m# macOS\u001b[39;00m\n",
      "\u001b[1;31mFileNotFoundError\u001b[0m: [Errno 2] No such file or directory: 'data_images\\\\bad1_mp4-0001_jpg.rf.172fa7d0b38232151a6f0492dda827ac.jpg'"
     ]
    }
   ],
   "source": [
    "filename_series.apply(save_data,args=(train_folder,groupby_obj_train))"
   ]
  },
  {
   "cell_type": "code",
   "execution_count": 196,
   "id": "bddf6071-f767-488f-8d62-a73a182ef53c",
   "metadata": {},
   "outputs": [
    {
     "data": {
      "text/plain": [
       "0     None\n",
       "1     None\n",
       "2     None\n",
       "3     None\n",
       "4     None\n",
       "5     None\n",
       "6     None\n",
       "7     None\n",
       "8     None\n",
       "9     None\n",
       "10    None\n",
       "11    None\n",
       "12    None\n",
       "13    None\n",
       "14    None\n",
       "15    None\n",
       "16    None\n",
       "17    None\n",
       "18    None\n",
       "dtype: object"
      ]
     },
     "execution_count": 196,
     "metadata": {},
     "output_type": "execute_result"
    }
   ],
   "source": [
    "filename_series_test = pd.Series(groupby_obj_test.groups.keys())\n",
    "filename_series_test.apply(save_data,args=(test_folder,groupby_obj_test))"
   ]
  },
  {
   "cell_type": "code",
   "execution_count": null,
   "id": "78c8ff0b-c860-4a4f-9e76-2941f6c8923a",
   "metadata": {},
   "outputs": [],
   "source": []
  }
 ],
 "metadata": {
  "kernelspec": {
   "display_name": "Python 3 (ipykernel)",
   "language": "python",
   "name": "python3"
  },
  "language_info": {
   "codemirror_mode": {
    "name": "ipython",
    "version": 3
   },
   "file_extension": ".py",
   "mimetype": "text/x-python",
   "name": "python",
   "nbconvert_exporter": "python",
   "pygments_lexer": "ipython3",
   "version": "3.12.3"
  }
 },
 "nbformat": 4,
 "nbformat_minor": 5
}
